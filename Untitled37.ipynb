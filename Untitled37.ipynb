{
  "nbformat": 4,
  "nbformat_minor": 0,
  "metadata": {
    "colab": {
      "name": "Untitled37.ipynb",
      "provenance": [],
      "authorship_tag": "ABX9TyO2iRWFGhyQDvBe3o6Gz7m9",
      "include_colab_link": true
    },
    "kernelspec": {
      "name": "python3",
      "display_name": "Python 3"
    },
    "language_info": {
      "name": "python"
    }
  },
  "cells": [
    {
      "cell_type": "markdown",
      "metadata": {
        "id": "view-in-github",
        "colab_type": "text"
      },
      "source": [
        "<a href=\"https://colab.research.google.com/github/sipahisnm/python-romen/blob/main/Untitled37.ipynb\" target=\"_parent\"><img src=\"https://colab.research.google.com/assets/colab-badge.svg\" alt=\"Open In Colab\"/></a>"
      ]
    },
    {
      "cell_type": "code",
      "metadata": {
        "colab": {
          "base_uri": "https://localhost:8080/"
        },
        "id": "_QeIRmg0v1RP",
        "outputId": "df602034-756a-4da6-e480-689a7445454e"
      },
      "source": [
        "phonebook={}\n",
        "\n",
        "phonebook={}\n",
        "\n",
        "def find(keyword):\n",
        "  return phonebook.get(keyword,f\"Couldn't find phone number of {keyword}\") \n",
        "\n",
        "def add (name,phone_number):\n",
        "  phonebook[name]=phone_number\n",
        "  return f'phone number of {name} is inserted into the phonebook'\n",
        "\n",
        "\n",
        "\n",
        "def delete(name):\n",
        "  try:\n",
        "    phonebook.pop(name)\n",
        "  except KeyError as err:\n",
        "    return f'{err} is not in the phonebook'\n",
        "  else:\n",
        "    return f'{name} is deleted from the phonebook'\n",
        "\n",
        "if __name__=='__main__':\n",
        "  print('Welcome to the phonebook application')\n",
        "  print('1. Find phone number')\n",
        "  print('2. Insert a phone number')\n",
        "  print('3. Delete a person from the phonebook')\n",
        "  print('4. Terminate')\n",
        "  no = input('Select operation on Phonebook App (1/2/3) : ')\n",
        "  while True:\n",
        "    if no=='1':\n",
        "      name=input('find the phone number of :')\n",
        "      print(find(name))\n",
        "      print(\" \")\n",
        "    elif no=='2':\n",
        "      name=input('insert name of the person :')\n",
        "      try:\n",
        "        number=int(input('insert phone number of the person :'))\n",
        "      except ValueError as err:\n",
        "        print('invalid input format,cancelling operation...')\n",
        "      else:\n",
        "        print(add(name,number))\n",
        "      print(\" \")\n",
        "    elif no=='3':\n",
        "      name=input('whom to delete from phonebook :')\n",
        "      print(delete(name))\n",
        "      print(\" \")\n",
        "    elif no=='4':\n",
        "      print('existing phonebook')\n",
        "      break\n",
        "    else:\n",
        "      print('wrong operation')\n",
        "    print('1. Find phone number')\n",
        "    print('2. Insert a phone number')\n",
        "    print('3. Delete a person from the phonebook')\n",
        "    print('4. Terminate')\n",
        "    no = input('Select operation on Phonebook App (1/2/3) : ')  \n",
        "\n"
      ],
      "execution_count": 22,
      "outputs": [
        {
          "output_type": "stream",
          "text": [
            "Welcome to the phonebook application\n",
            "1. Find phone number\n",
            "2. Insert a phone number\n",
            "3. Delete a person from the phonebook\n",
            "4. Terminate\n",
            "Select operation on Phonebook App (1/2/3) : 1\n",
            "find the phone number of :609548865\n",
            "Couldn't find phone number of 609548865\n",
            " \n",
            "1. Find phone number\n",
            "2. Insert a phone number\n",
            "3. Delete a person from the phonebook\n",
            "4. Terminate\n",
            "Select operation on Phonebook App (1/2/3) : 4\n",
            "existing phonebook\n"
          ],
          "name": "stdout"
        }
      ]
    },
    {
      "cell_type": "code",
      "metadata": {
        "colab": {
          "base_uri": "https://localhost:8080/"
        },
        "id": "ZICXrShsw1eq",
        "outputId": "84a490c1-ce02-4a47-8dd6-24ffa97cca6d"
      },
      "source": [
        "dic = {\"A\":1, \"B\":2}\n",
        "print(dic.get(\"A\"))\n",
        "print(dic.get(\"C\"))\n",
        "print(dic.get(\"C\",\"Not Found ! \"))"
      ],
      "execution_count": 6,
      "outputs": [
        {
          "output_type": "stream",
          "text": [
            "1\n",
            "None\n",
            "Not Found ! \n"
          ],
          "name": "stdout"
        }
      ]
    },
    {
      "cell_type": "code",
      "metadata": {
        "colab": {
          "base_uri": "https://localhost:8080/"
        },
        "id": "tli1sHo9xK0e",
        "outputId": "ecc99f96-da50-4528-a66e-ed260e02c1c4"
      },
      "source": [
        "phonebook={}\n",
        "\n",
        "def find(keyword):\n",
        "  return phonebook.get(keyword,f\"Couldn't find phone number of {keyword}\")\n",
        "\n",
        "print(find(3))  "
      ],
      "execution_count": 15,
      "outputs": [
        {
          "output_type": "stream",
          "text": [
            "Couldn't find phone number of 3\n"
          ],
          "name": "stdout"
        }
      ]
    }
  ]
}